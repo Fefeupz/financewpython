{
 "cells": [
  {
   "cell_type": "code",
   "execution_count": null,
   "metadata": {},
   "outputs": [],
   "source": [
    "import pandas as pd\n",
    "import numpy as np \n",
    "import matplotlib.pyplot as plt\n",
    "import plotly.express as px"
   ]
  },
  {
   "cell_type": "code",
   "execution_count": null,
   "metadata": {},
   "outputs": [],
   "source": [
    "dataset = pd.read_csv('acoes_ex.csv')\n",
    "dataset"
   ]
  },
  {
   "cell_type": "code",
   "execution_count": null,
   "metadata": {},
   "outputs": [],
   "source": [
    "def alocacao_ativos (dataset, dinheiro_total, seed=0):\n",
    "    dataset = dataset.copy()\n",
    "    \n",
    "    if seed != 0:\n",
    "        np.random.seed(seed)\n",
    "    \n",
    "    pesos = np.random.random(len(dataset.columns)-1)\n",
    "    pesos = pesos / pesos.sum()\n",
    "    #print(pesos, pesos.sum())\n",
    "    \n",
    "    colunas = dataset.columns[1:]\n",
    "    for i in colunas:\n",
    "        dataset[i] = (dataset[i]/dataset[i][0])\n",
    "        \n",
    "    for i, acao in enumerate (dataset.columns[1:]):\n",
    "        dataset[acao] = dataset[acao] * pesos[i] * dinheiro_total\n",
    "    \n",
    "    dataset['Soma Valor'] = dataset.iloc[:, 1:].sum(axis=1)\n",
    "    \n",
    "    datas = dataset['Date']\n",
    "    \n",
    "    dataset.drop(labels=['Date'], axis=1, inplace = True)\n",
    "    dataset['taxa retorno'] = 0.0\n",
    "            \n",
    "    for i in range(1, len(dataset)):\n",
    "        dataset['taxa retorno'][i] = ((dataset['Soma Valor'][i] / dataset['Soma Valor'][i-1]) -1)*100\n",
    "        \n",
    "    acoes_pesos = pd.DataFrame(data={'Ações': colunas, 'Pesos': pesos * 100})\n",
    "            \n",
    "    return dataset, datas, acoes_pesos, dataset.loc[len(dataset)-1]['Soma Valor']"
   ]
  },
  {
   "cell_type": "code",
   "execution_count": null,
   "metadata": {},
   "outputs": [],
   "source": [
    "dataset, datas, acoes_pesos, soma_valor = alocacao_ativos(pd.read_csv('acoes_ex.csv'), 5000, 10)"
   ]
  },
  {
   "cell_type": "code",
   "execution_count": null,
   "metadata": {},
   "outputs": [],
   "source": [
    "figura = px.line(title = 'Evolução do patrimônio')\n",
    "for i in dataset.drop(columns=['soma_valor', 'taxa retorno']).columns:\n",
    "    figura.add_scatter (x=datas, y=dataset[i], name=i)\n",
    "figura.show()"
   ]
  },
  {
   "cell_type": "code",
   "execution_count": null,
   "metadata": {},
   "outputs": [],
   "source": [
    "figura = px.line(x= datas, y= dataset['Soma Valor'], title = 'Evolução do patrimônio')\n",
    "figura.show()"
   ]
  }
 ],
 "metadata": {
  "kernelspec": {
   "display_name": "Python 3",
   "language": "python",
   "name": "python3"
  },
  "language_info": {
   "codemirror_mode": {
    "name": "ipython",
    "version": 3
   },
   "file_extension": ".py",
   "mimetype": "text/x-python",
   "name": "python",
   "nbconvert_exporter": "python",
   "pygments_lexer": "ipython3",
   "version": "3.12.1"
  }
 },
 "nbformat": 4,
 "nbformat_minor": 2
}

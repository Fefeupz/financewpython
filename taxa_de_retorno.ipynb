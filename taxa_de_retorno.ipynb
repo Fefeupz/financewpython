{
 "cells": [
  {
   "cell_type": "code",
   "execution_count": 1,
   "metadata": {},
   "outputs": [],
   "source": [
    "import pandas as pd \n",
    "import numpy as np \n",
    "import plotly_express as px "
   ]
  },
  {
   "cell_type": "code",
   "execution_count": 2,
   "metadata": {},
   "outputs": [],
   "source": [
    "dataset = pd.read_csv('acoes.csv')"
   ]
  },
  {
   "cell_type": "code",
   "execution_count": 3,
   "metadata": {},
   "outputs": [
    {
     "data": {
      "text/plain": [
       "(1468, 7)"
      ]
     },
     "execution_count": 3,
     "metadata": {},
     "output_type": "execute_result"
    }
   ],
   "source": [
    "dataset.shape"
   ]
  },
  {
   "cell_type": "code",
   "execution_count": 4,
   "metadata": {},
   "outputs": [
    {
     "data": {
      "text/html": [
       "<div>\n",
       "<style scoped>\n",
       "    .dataframe tbody tr th:only-of-type {\n",
       "        vertical-align: middle;\n",
       "    }\n",
       "\n",
       "    .dataframe tbody tr th {\n",
       "        vertical-align: top;\n",
       "    }\n",
       "\n",
       "    .dataframe thead th {\n",
       "        text-align: right;\n",
       "    }\n",
       "</style>\n",
       "<table border=\"1\" class=\"dataframe\">\n",
       "  <thead>\n",
       "    <tr style=\"text-align: right;\">\n",
       "      <th></th>\n",
       "      <th>Date</th>\n",
       "      <th>GOL</th>\n",
       "      <th>CVC</th>\n",
       "      <th>WEGE</th>\n",
       "      <th>MGLU</th>\n",
       "      <th>TOTS</th>\n",
       "      <th>BOVA</th>\n",
       "    </tr>\n",
       "  </thead>\n",
       "  <tbody>\n",
       "    <tr>\n",
       "      <th>0</th>\n",
       "      <td>2018-01-02</td>\n",
       "      <td>15.19</td>\n",
       "      <td>49.880001</td>\n",
       "      <td>9.623076</td>\n",
       "      <td>2.478125</td>\n",
       "      <td>10.030941</td>\n",
       "      <td>75.099998</td>\n",
       "    </tr>\n",
       "    <tr>\n",
       "      <th>1</th>\n",
       "      <td>2018-01-03</td>\n",
       "      <td>15.01</td>\n",
       "      <td>49.590000</td>\n",
       "      <td>9.476923</td>\n",
       "      <td>2.446875</td>\n",
       "      <td>10.243869</td>\n",
       "      <td>75.300003</td>\n",
       "    </tr>\n",
       "    <tr>\n",
       "      <th>2</th>\n",
       "      <td>2018-01-04</td>\n",
       "      <td>15.58</td>\n",
       "      <td>49.990002</td>\n",
       "      <td>9.384615</td>\n",
       "      <td>2.505625</td>\n",
       "      <td>10.180656</td>\n",
       "      <td>76.000000</td>\n",
       "    </tr>\n",
       "    <tr>\n",
       "      <th>3</th>\n",
       "      <td>2018-01-05</td>\n",
       "      <td>15.66</td>\n",
       "      <td>49.740002</td>\n",
       "      <td>9.423076</td>\n",
       "      <td>2.456250</td>\n",
       "      <td>10.400239</td>\n",
       "      <td>76.440002</td>\n",
       "    </tr>\n",
       "    <tr>\n",
       "      <th>4</th>\n",
       "      <td>2018-01-08</td>\n",
       "      <td>15.70</td>\n",
       "      <td>49.529999</td>\n",
       "      <td>9.500000</td>\n",
       "      <td>2.456562</td>\n",
       "      <td>10.393585</td>\n",
       "      <td>76.760002</td>\n",
       "    </tr>\n",
       "    <tr>\n",
       "      <th>...</th>\n",
       "      <td>...</td>\n",
       "      <td>...</td>\n",
       "      <td>...</td>\n",
       "      <td>...</td>\n",
       "      <td>...</td>\n",
       "      <td>...</td>\n",
       "      <td>...</td>\n",
       "    </tr>\n",
       "    <tr>\n",
       "      <th>1463</th>\n",
       "      <td>2023-12-20</td>\n",
       "      <td>8.60</td>\n",
       "      <td>3.840000</td>\n",
       "      <td>36.160000</td>\n",
       "      <td>2.100000</td>\n",
       "      <td>33.060001</td>\n",
       "      <td>126.820000</td>\n",
       "    </tr>\n",
       "    <tr>\n",
       "      <th>1464</th>\n",
       "      <td>2023-12-21</td>\n",
       "      <td>9.06</td>\n",
       "      <td>3.960000</td>\n",
       "      <td>36.389999</td>\n",
       "      <td>2.090000</td>\n",
       "      <td>33.349998</td>\n",
       "      <td>128.350006</td>\n",
       "    </tr>\n",
       "    <tr>\n",
       "      <th>1465</th>\n",
       "      <td>2023-12-22</td>\n",
       "      <td>9.14</td>\n",
       "      <td>3.960000</td>\n",
       "      <td>36.509998</td>\n",
       "      <td>2.120000</td>\n",
       "      <td>32.849998</td>\n",
       "      <td>128.940002</td>\n",
       "    </tr>\n",
       "    <tr>\n",
       "      <th>1466</th>\n",
       "      <td>2023-12-26</td>\n",
       "      <td>9.16</td>\n",
       "      <td>3.980000</td>\n",
       "      <td>36.720001</td>\n",
       "      <td>2.110000</td>\n",
       "      <td>33.529999</td>\n",
       "      <td>129.649994</td>\n",
       "    </tr>\n",
       "    <tr>\n",
       "      <th>1467</th>\n",
       "      <td>2023-12-27</td>\n",
       "      <td>9.19</td>\n",
       "      <td>4.010000</td>\n",
       "      <td>36.840000</td>\n",
       "      <td>2.250000</td>\n",
       "      <td>33.980000</td>\n",
       "      <td>130.229996</td>\n",
       "    </tr>\n",
       "  </tbody>\n",
       "</table>\n",
       "<p>1468 rows × 7 columns</p>\n",
       "</div>"
      ],
      "text/plain": [
       "            Date    GOL        CVC       WEGE      MGLU       TOTS        BOVA\n",
       "0     2018-01-02  15.19  49.880001   9.623076  2.478125  10.030941   75.099998\n",
       "1     2018-01-03  15.01  49.590000   9.476923  2.446875  10.243869   75.300003\n",
       "2     2018-01-04  15.58  49.990002   9.384615  2.505625  10.180656   76.000000\n",
       "3     2018-01-05  15.66  49.740002   9.423076  2.456250  10.400239   76.440002\n",
       "4     2018-01-08  15.70  49.529999   9.500000  2.456562  10.393585   76.760002\n",
       "...          ...    ...        ...        ...       ...        ...         ...\n",
       "1463  2023-12-20   8.60   3.840000  36.160000  2.100000  33.060001  126.820000\n",
       "1464  2023-12-21   9.06   3.960000  36.389999  2.090000  33.349998  128.350006\n",
       "1465  2023-12-22   9.14   3.960000  36.509998  2.120000  32.849998  128.940002\n",
       "1466  2023-12-26   9.16   3.980000  36.720001  2.110000  33.529999  129.649994\n",
       "1467  2023-12-27   9.19   4.010000  36.840000  2.250000  33.980000  130.229996\n",
       "\n",
       "[1468 rows x 7 columns]"
      ]
     },
     "execution_count": 4,
     "metadata": {},
     "output_type": "execute_result"
    }
   ],
   "source": [
    "dataset"
   ]
  },
  {
   "cell_type": "code",
   "execution_count": 5,
   "metadata": {},
   "outputs": [
    {
     "data": {
      "text/plain": [
       "(15.1899995803833, 9.1899995803833)"
      ]
     },
     "execution_count": 5,
     "metadata": {},
     "output_type": "execute_result"
    }
   ],
   "source": [
    "dataset['GOL'][0], dataset['GOL'] [len(dataset)-1]"
   ]
  },
  {
   "cell_type": "code",
   "execution_count": 9,
   "metadata": {},
   "outputs": [
    {
     "data": {
      "text/plain": [
       "-39.49967192723647"
      ]
     },
     "execution_count": 9,
     "metadata": {},
     "output_type": "execute_result"
    }
   ],
   "source": [
    "((dataset['GOL'][len(dataset)-1]-dataset['GOL'][0])/dataset['GOL'][0])*100"
   ]
  },
  {
   "cell_type": "code",
   "execution_count": 10,
   "metadata": {},
   "outputs": [
    {
     "data": {
      "text/plain": [
       "-301.9749974086301"
      ]
     },
     "execution_count": 10,
     "metadata": {},
     "output_type": "execute_result"
    }
   ],
   "source": [
    "((dataset['CVC'][len(dataset)-1]-dataset['CVC'][0])/dataset['GOL'][0])*100"
   ]
  },
  {
   "cell_type": "code",
   "execution_count": 11,
   "metadata": {},
   "outputs": [
    {
     "data": {
      "text/plain": [
       "179.17659292652394"
      ]
     },
     "execution_count": 11,
     "metadata": {},
     "output_type": "execute_result"
    }
   ],
   "source": [
    "((dataset['WEGE'][len(dataset)-1]-dataset['WEGE'][0])/dataset['GOL'][0])*100"
   ]
  },
  {
   "cell_type": "code",
   "execution_count": 12,
   "metadata": {},
   "outputs": [
    {
     "data": {
      "text/plain": [
       "-1.5018110708971832"
      ]
     },
     "execution_count": 12,
     "metadata": {},
     "output_type": "execute_result"
    }
   ],
   "source": [
    "((dataset['MGLU'][len(dataset)-1]-dataset['MGLU'][0])/dataset['GOL'][0])*100"
   ]
  },
  {
   "cell_type": "code",
   "execution_count": 13,
   "metadata": {},
   "outputs": [
    {
     "data": {
      "text/plain": [
       "157.66332583473658"
      ]
     },
     "execution_count": 13,
     "metadata": {},
     "output_type": "execute_result"
    }
   ],
   "source": [
    "((dataset['TOTS'][len(dataset)-1]-dataset['TOTS'][0])/dataset['GOL'][0])*100"
   ]
  },
  {
   "cell_type": "code",
   "execution_count": 14,
   "metadata": {},
   "outputs": [
    {
     "data": {
      "text/plain": [
       "73.4087861165741"
      ]
     },
     "execution_count": 14,
     "metadata": {},
     "output_type": "execute_result"
    }
   ],
   "source": [
    "(dataset['BOVA'][len(dataset)-1]/dataset['BOVA'][0]-1)*100"
   ]
  },
  {
   "cell_type": "code",
   "execution_count": 22,
   "metadata": {},
   "outputs": [],
   "source": [
    "dataset['RS GOL'] = (dataset['GOL']/dataset['GOL'].shift(1)) -1\n",
    "dataset['RS CVC'] = (dataset['CVC']/dataset['CVC'].shift(1)) -1\n",
    "dataset['RS WEGE'] = (dataset['WEGE']/dataset['WEGE'].shift(1)) -1\n",
    "dataset['RS MGLU'] = (dataset['MGLU']/dataset['MGLU'].shift(1)) -1\n",
    "dataset['RS TOTS'] = (dataset['TOTS']/dataset['TOTS'].shift(1)) -1\n",
    "dataset['RS BOVA'] = (dataset['BOVA']/dataset['BOVA'].shift(1)) -1"
   ]
  },
  {
   "cell_type": "code",
   "execution_count": 16,
   "metadata": {},
   "outputs": [
    {
     "data": {
      "image/png": "[encoded data removed]",
      "text/plain": [
       "<Figure size 640x480 with 1 Axes>"
      ]
     },
     "metadata": {},
     "output_type": "display_data"
    }
   ],
   "source": [
    "dataset['RS GOL'].plot();"
   ]
  },
  {
   "cell_type": "code",
   "execution_count": 19,
   "metadata": {},
   "outputs": [
    {
     "data": {
      "text/plain": [
       "0.0007202418690554944"
      ]
     },
     "execution_count": 19,
     "metadata": {},
     "output_type": "execute_result"
    }
   ],
   "source": [
    "dataset['RS GOL'].mean()"
   ]
  },
  {
   "cell_type": "code",
   "execution_count": 21,
   "metadata": {},
   "outputs": [
    {
     "data": {
      "text/plain": [
       "17.717949978765162"
      ]
     },
     "execution_count": 21,
     "metadata": {},
     "output_type": "execute_result"
    }
   ],
   "source": [
    "#Taxa de retorno anual\n",
    "(dataset['RS GOL'].mean()*246)*100"
   ]
  },
  {
   "cell_type": "code",
   "execution_count": 23,
   "metadata": {},
   "outputs": [
    {
     "data": {
      "text/plain": [
       "-16.91611267129173"
      ]
     },
     "execution_count": 23,
     "metadata": {},
     "output_type": "execute_result"
    }
   ],
   "source": [
    "(dataset['RS CVC'].mean()*246)*100"
   ]
  },
  {
   "cell_type": "code",
   "execution_count": 24,
   "metadata": {},
   "outputs": [
    {
     "data": {
      "text/plain": [
       "29.172263321317217"
      ]
     },
     "execution_count": 24,
     "metadata": {},
     "output_type": "execute_result"
    }
   ],
   "source": [
    "(dataset['RS WEGE'].mean()*246)*100"
   ]
  },
  {
   "cell_type": "code",
   "execution_count": 25,
   "metadata": {},
   "outputs": [
    {
     "data": {
      "text/plain": [
       "18.857411690112308"
      ]
     },
     "execution_count": 25,
     "metadata": {},
     "output_type": "execute_result"
    }
   ],
   "source": [
    "(dataset['RS MGLU'].mean()*246)*100"
   ]
  },
  {
   "cell_type": "code",
   "execution_count": 26,
   "metadata": {},
   "outputs": [
    {
     "data": {
      "text/plain": [
       "28.80432484621981"
      ]
     },
     "execution_count": 26,
     "metadata": {},
     "output_type": "execute_result"
    }
   ],
   "source": [
    "(dataset['RS TOTS'].mean()*246)*100"
   ]
  },
  {
   "cell_type": "code",
   "execution_count": 27,
   "metadata": {},
   "outputs": [
    {
     "data": {
      "text/plain": [
       "12.591576628199483"
      ]
     },
     "execution_count": 27,
     "metadata": {},
     "output_type": "execute_result"
    }
   ],
   "source": [
    "(dataset['RS BOVA'].mean()*246)*100"
   ]
  }
 ],
 "metadata": {
  "kernelspec": {
   "display_name": "Python 3",
   "language": "python",
   "name": "python3"
  },
  "language_info": {
   "codemirror_mode": {
    "name": "ipython",
    "version": 3
   },
   "file_extension": ".py",
   "mimetype": "text/x-python",
   "name": "python",
   "nbconvert_exporter": "python",
   "pygments_lexer": "ipython3",
   "version": "3.12.1"
  }
 },
 "nbformat": 4,
 "nbformat_minor": 2
}
